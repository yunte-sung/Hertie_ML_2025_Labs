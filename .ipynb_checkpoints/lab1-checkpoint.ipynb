{
 "cells": [
  {
   "cell_type": "markdown",
   "metadata": {
    "collapsed": true,
    "jupyter": {
     "outputs_hidden": true
    },
    "pycharm": {
     "name": "#%% md\n"
    }
   },
   "source": [
    "# Lab 1\n",
    "## Machine Learning"
   ]
  },
  {
   "cell_type": "markdown",
   "metadata": {
    "jupyter": {
     "outputs_hidden": false
    },
    "pycharm": {
     "name": "#%% md\n"
    }
   },
   "source": [
    "## Today\n",
    "\n",
    "* [Preliminary lab info.](#prelim)\n",
    "* [Helpful tools](#tools)\n",
    "* [Setting up a new project...](#setup)\n",
    "* [Good coding practice :)](#goodcoding)\n",
    "* [Before you get started](#getstarted) (optional)\n",
    "* [Numpy Matrices](#exercises)"
   ]
  },
  {
   "cell_type": "markdown",
   "metadata": {
    "jupyter": {
     "outputs_hidden": false
    },
    "pycharm": {
     "name": "#%% md\n"
    }
   },
   "source": [
    "## Some preliminary stuff. <a class=\"anchor\" id=\"prelim\"></a>"
   ]
  },
  {
   "cell_type": "markdown",
   "metadata": {
    "jupyter": {
     "outputs_hidden": false
    },
    "pycharm": {
     "name": "#%% md\n"
    }
   },
   "source": [
    "### How will these labs be structured?\n",
    "\n",
    "90 minutes in total, divided into\n",
    "\n",
    "1. Intro\n",
    "2. Independent Work and questions (~1h)\n",
    "3. Any other coding-related work & questions, **if there is time**. Otherwise, feel free to email me at K.conyngham@students.hertie-school.org\n"
   ]
  },
  {
   "cell_type": "markdown",
   "metadata": {
    "jupyter": {
     "outputs_hidden": false
    },
    "pycharm": {
     "name": "#%% md\n"
    }
   },
   "source": [
    "### Lab 'rules'\n",
    "\n",
    "There are no stupid questions!\n",
    "\n",
    "Try it yourself before asking others/googling/stack overflowing/asking chatGPT/asking me!\n",
    "\n",
    "Tasks can be solved quickly with LLMs but it is very valuable to try yourself first and really make sure you understand each line of code.\n",
    "\n",
    "Everyone's abilities will naturally differ coming into this class and that is okay! I will try to move at a pace that fits our schedule and suits as many of you as possible. If you already have advanced knowledge feel free to sit nearer the back and work independently, but I do **expect everyone to go through the materials at least once**. I also found that a great way to make sure I know something is to explain it to a colleague who might be stuggling, and I am sure they will appreciate it also!\n",
    "\n",
    "I'm very happy to help everyone, unfortunately time is limited in the lab so try make sure you have a well defined question before I come over - it helps to make things simple until they work again then work up to the problem methodically so you know where things are getting confused!\n",
    "\n",
    "I will try to use datasets relevant to public policy questions throughout the course, but I highly recommend you find datasets of interest to **you** and try the things we are learning on those. Remember we are learnign a toolkit to answer questions and make predictions.\n",
    "\n",
    "Enjoy it - Machine Learning can be fun!"
   ]
  },
  {
   "cell_type": "markdown",
   "metadata": {
    "jupyter": {
     "outputs_hidden": false
    },
    "pycharm": {
     "name": "#%% md\n"
    }
   },
   "source": [
    "### Access lab resources and exercises\n",
    "You will find the Jupyter notebooks for the labs at [https://github.com/Killian-Conyngham/Hertie_ML_2025_Labs](https://github.com/Killian-Conyngham/Hertie_ML_2025_Labs).\n",
    "\n",
    "To access the Jupyter notebooks, the easiest thing is to `git clone` the repository. I will update the repository each week with the lab for that week. Even better is to `git fork` the repository so you have your own version in Github. This can be especially nice for posterity, so you can come back and use your own work as a reference. The easiest way to do this is directly at the link above, and then to work from your own repo, if you do this make sure to rebase before each lab to get the most updated materials.\n",
    "\n",
    "You can open the terminal by searching for terminal (Mac), or open Command Prompt or Git Bash. (Windows)\n",
    "\n",
    "## Installing Git\n",
    "### For Windows:\n",
    "1. Visit [git-scm.com](git-scm.com) and download the Windows installer.\n",
    "2. During installation, select \"Git from the command line\" when prompted.\n",
    "3. After installation, open Command Prompt (search for \"cmd\") and verify the installation: ```git --version``` in command line.\n",
    "\n",
    "### For Mac: \n",
    "\n",
    "1. Install Homebrew (if you don't have it): ```/bin/bash -c \"$(curl -fsSL https://raw.githubusercontent.com/Homebrew/install/HEAD/install.sh)\"```\n",
    "2. Install Git using Homebrew: ```brew install git``` \n",
    "*Alternatively, you can download Git directly from [git-scm.com](git-scm.com).*\n",
    "3. Verify installation: by running ```git --version```\n",
    "\n",
    "## Cloning the Repository:\n",
    "\n",
    "Next we will need to clone the repository into our local machine. This can be done by navigating within the terminal to the desired directory and typing the ```git clone``` command. \n",
    "\n",
    "1. In-terminal, navigate to where you would like to set up your repository (I recommend that you create a directory called ```repositories``` either at the root directory, or within your documents directory).  \n",
    "*Useful commands can be found in the [Helpful Tools](#helpful-tools) section below.*\n",
    "2. Clone the repo:\n",
    "\n",
    "```\n",
    "git clone https://github.com/Killian-Conyngham/Hertie_ML_2025_Labs.git\n",
    "\n",
    "```\n",
    "(If you have forked the repository, replace the link above with the link to your forked reposotory).\n",
    "\n",
    "This will create a directory (in whichever folder your terminal is currently operating in) and copy the remote repository into your local machine. \n",
    "\n",
    "---\n",
    "\n",
    "## Running Jupyter Notebooks:\n",
    "Once you've cloned the repository, follow the guide in the [Before you get started](#getstarted) section for a step-by-step walkthrough on how to run Jupyter Notebooks.\n",
    "\n",
    "📌 Note: All lab materials will be distributed via GitHub, not Moodle. Check the repository regularly for updates."
   ]
  },
  {
   "cell_type": "markdown",
   "metadata": {
    "jupyter": {
     "outputs_hidden": false
    },
    "pycharm": {
     "name": "#%% md\n"
    }
   },
   "source": [
    "## Helpful tools <a class=\"anchor\" id=\"tools\"></a>"
   ]
  },
  {
   "cell_type": "markdown",
   "metadata": {},
   "source": [
    "Here is a list of tools and resources that can help you along the way. Use these to go through the steps in the [Before you get started](#getstarted) section.\n",
    "\n",
    "* **How to work with the command line?** It's useful for anyone working with data and code to know how to use the command line (aka terminal/shell), this [article](https://www.dataquest.io/blog/why-learn-the-command-line/) explains why. [Here](https://tutorial.djangogirls.org/en/intro_to_command_line/) is an introduction of the most important commands on different operating systems. Using [TMUX](https://deliciousbrains.com/tmux-for-local-development/#what-is-tmux) will make using the command line much easier! \n",
    "* **How to install Python and keep track of dependencies?** I highly recommend using a virtual environment, ideally with [miniconda](https://docs.anaconda.com/free/miniconda/#quick-command-line-install)! Miniconda [CHEATSHEET](https://docs.conda.io/projects/conda/en/latest/_downloads/843d9e0198f2a193a3484886fa28163c/conda-cheatsheet.pdf)\n",
    "* **Where/how to write your code?** Choose an integrated development environment (IDE) or code editor (I recommend [VSCode](https://code.visualstudio.com/)) and install [Jupyter Notebooks](https://realpython.com/jupyter-notebook-introduction/) for code experimentation (and to run the DS&A labs), and use Jupyter [keyboard shortcuts](https://towardsdatascience.com/jypyter-notebook-shortcuts-bf0101a98330).\n",
    "* **How to keep track of changes?** [Download and install Git](https://www.atlassian.com/git/tutorials/install-git)! Git [CHEATSHEET](https://education.github.com/git-cheat-sheet-education.pdf)\n",
    "* **How to collaborate?** Sign up to GitHub.\n",
    "* **How to write basic syntax in Python?** Look at this [CHEATSHEET](https://www.pythoncheatsheet.org/cheatsheet/basics) or use StackOverflow."
   ]
  },
  {
   "cell_type": "markdown",
   "metadata": {
    "jupyter": {
     "outputs_hidden": false
    },
    "pycharm": {
     "name": "#%% md\n"
    }
   },
   "source": [
    "## Setting up a new project <a class=\"anchor\" id=\"setup\"></a>"
   ]
  },
  {
   "cell_type": "markdown",
   "metadata": {},
   "source": [
    "Here are some best-practice steps you can take *every time* you start a new project (including a 'project' for what we'll be doing in DS&A labs), to keep your code organised, sharable, and up-to-date. The [Before you get started](#getstarted) section below goes through these steps one by one.\n",
    "\n",
    "1. Create a new directory for each project!\n",
    "2. Set up a virtual environment with your preferred Python version using conda.\n",
    "3. Install jupyter into this environment.\n",
    "4. Set up a new project in PyCharm, selecting your preferred Python installation as the interpreter (ideally the one you just created using conda).\n",
    "5. Set up git (create .gitignore, initialise, first commit, etc.).\n",
    "6. Start jupyter within your environment by running the command `jupyter notebook`. (If you are using the VSCode jupyter notebook module this is not necessary.)"
   ]
  },
  {
   "cell_type": "markdown",
   "metadata": {
    "jupyter": {
     "outputs_hidden": false
    },
    "pycharm": {
     "name": "#%% md\n"
    }
   },
   "source": [
    "## Refresher: some best practice for coding <a class=\"anchor\" id=\"goodcoding\"></a>"
   ]
  },
  {
   "cell_type": "markdown",
   "metadata": {},
   "source": [
    "The course textbooks are a great resource and there are many blog posts on best-practice for coding. Here's a very top-line summary:\n",
    "\n",
    "* Think carefully about naming conventions for variables, classes and functions\n",
    "* Write good documentation and comments\n",
    "* Make sure your code is reusable and scalable.\n",
    "* Test your code (the smaller the units you test, the easier you will make your life in the future).\n",
    "* Track your changes; remember to use version control so that your collaborators and future self understand what you have changed/added!\n",
    "\n",
    "Machine Learning Specifics:\n",
    "* Set random seeds explicitly for reproducibility\n",
    "* Make sure your code works on smaller chunks of the data or more limited loops before running the whole thing\n"
   ]
  },
  {
   "cell_type": "markdown",
   "metadata": {},
   "source": [
    "## Before you get started <a class=\"anchor\" id=\"getstarted\"></a>"
   ]
  },
  {
   "cell_type": "markdown",
   "metadata": {},
   "source": [
    "If you have been coding in Python for a while and already have your preferred set-up, you can skip this section and go on to the coding exercises. Otherwise, go through the following steps to create a handy and easily reproducible coding environment, before you dive into the coding exercises. Doing this once will very likely make your coding experience in the future much easier, even if it seems like a hassle in the beginning. **Use the resources and links listed in the [Helpful tools](#tools) section.**\n",
    "\n",
    "### 1. Familiarise yourself with the command line\n",
    "Being familiar with the command line, and being used to working with it, will help you set up and navigate data processing pipelines, work with data that is stored remotely (i.e. not on your local computer), switch between different programmes, and deploy web apps (for dsa). \n",
    "\n",
    "It's a little unwiedlely at first and not necessarily intuitive, but essential and worth putting in a little time initially to get familiar. If you have never used the command line before, open the command line introduction and make yourself familiar with the commands to:\n",
    "1. how to print the information of the current directory: `pwd` \n",
    "    - \"print working directory\".\n",
    "    - outputs the full path to the current directory you're working in.\n",
    "2. move between directories (aka folders)\" `cd`\n",
    "    - \"change directory\"\n",
    "    - `cd repositories`\n",
    "    - `cd ..`\n",
    "    - `cd ~`\n",
    "    - absolute vs relative paths\n",
    "3. how to print a list of files and subdirectories within the current directory: `ls`\n",
    "    - \"list\"\n",
    "    - `ls -l` - detailed information (like permissions, sizes, and timestamps)\n",
    "    - `ls -a` - list files and folders including hidden ones (those starting with .)\n",
    "4. create new directories: `mkdir`\n",
    "    - \"make directory\"\n",
    "    - `mkdir dir1 dir2 dir3`\n",
    "    - `mkdir -p parent_dir/child_dir/grandchild_dir` (directory with nested subdirectories, using `-p` flag)\n",
    "5. remove files and folders: `rm`\n",
    "    - \"remove\"\n",
    "    - remove file\n",
    "    - remove directory w/o its contents\n",
    "    - remove directory w/o its contents: `rm -r` + dir name\n",
    "6. (optional and slightly more advanced) a really helpful tool for simplifying the command line is TMUX (terminal multiplexer), so you can run multiple terminal (command line) windows in parallel.\n",
    "\n",
    "### 2. Set up a tool for virtual environments\n",
    "Virtual environments are a great way to separate your package dependencies and even your Python versions. We'll be using a dedicated virtual environment for this course as well as DSA (and future Hertie techical courses).\n",
    "\n",
    "I recommend miniconda (called `conda`) -- since it is not limited to Python; you can even set up an R environment with conda. \n",
    "    - *Alternatives are `virtualenv` and `pipenv`.* \n",
    "- If you already work with virtual environments, you can skip this step. Otherwise:\n",
    "\n",
    "1. **install Miniconda**:\n",
    "    - either from the [webpage](https://docs.anaconda.com/miniconda/install/)\n",
    "    - or using basic command line: \n",
    "        - Mac`bash Miniconda3-latest-MacOSX-x86_64.sh` \n",
    "        - Windows `Miniconda3-latest-Windows-x86_64.exe`\n",
    "    - follow the prompts (accept default install location)\n",
    "    - initialise: `source ~/.bashrc`\n",
    "    - verify: `conda --version`\n",
    "2. **create a new virtual environment**: in which you install Python version 3.11, give it the name `ml2025`: `conda create -n ml2025 python=3.11`\n",
    "3. **verify**: by running the conda command that lists all environments: `conda env list`\n",
    "4. **activate the new environment** that you created: `conda activate ml2025`\n",
    "5. **list the packages** that are installed within this environment: `conda list`\n",
    "\n",
    "\n",
    "### 3. Create a new Git repo (or clone an existing one)\n",
    "\n",
    "Using version control with git will make your collaborators' and future self's life *a lot* easier. It helps you to track your own changes on a project and to collaborate effectively with your teams. Generally, this part of the work flow will consist of creating a new repo or cloning an existing one from Github. \n",
    "\n",
    "The steps are:\n",
    "\n",
    "1. **install git**: (run `git --version` to check if you already have it installed)\n",
    "2. **clone the existing DS&A labs repository**: such as the one for these labs, run `git clone https://github.com/Killian-Conyngham/Hertie_ML_2025_Labs.git` and then move into the new directory that this creates, \n",
    "3. **branch**: now create and move into a new branch by running `git checkout -b lab1` (where lab1 is now the name of the branch you have created)\n",
    "\n",
    "### 4. Set up Jupyter Notebooks\n",
    "- Jupyter notebooks are a great way for quick experimentation with code, to present code, or to create data science work flows. \n",
    "- *NB: The final functions and classes (and testing) that you write for a project should **not** sit in Jupyter notebook. Those should be written in `.py` files (aka Python modules) or, even better, in Python packages.*\n",
    "- One best-practice tip: start your code experiments in a Jupyter notebook and once you find yourself using some functions/classes repeatedly or think you might need them in other notebooks, migrate them into Python modules (and later to a package). \n",
    "\n",
    "To run this Jupyter notebook, follow these steps:\n",
    "1. make sure the `ml2025` environment you created in step 2 is activated\n",
    "2. install jupyter into this environment using the `pip install jupyter` command (installing something *into* an environment just means that you need to run the installation command after having activated the environment)\n",
    "3. now move into the directory for the DS&A repository that you cloned in step 3 (called `Hertie_ML_2025_Labs`).\n",
    "4. run `jupyter notebook`; this will start your default browser (or open a new tab) and you should now see a folder structure that includes the Jupyter notebook file `lab1.ipynb`\n",
    "5. click on `lab1.ipynb` to run it and familiarise yourself with the keyboard shortcuts for running cells, creating new cells (above and below the current cell), and removing cells.\n",
    "\n",
    "### 5. Set up your IDE\n",
    "- After step 4., you can now write code in Jupyter notebooks. \n",
    "- For the type of coding necessary for larger (and collaborative) projects, you'll also need an IDE (integrated development environment). IDEs are easier to use than base Jupyter notebook - as run from the command line above.\n",
    "- This is where you'll write classes, functions, helper functions, tests etc. \n",
    "- I recommend VS Code or PyCharm, because it they have many 'intelligent code' features such as code prediction, readability, error detection, easy refactoring, and because it provides debugging tools.\n",
    "- You can either open a project from the IDE, or open the file using the IDE programme. \n",
    "    - The 'more correct' way is to open up the project from the IDE.\n",
    "    - **For VS Code**: \n",
    "        - click the `Explorer` icon on the top left hand corner\n",
    "        - select `Open Folder`\n",
    "        - select the `Interpreter` (top right, also the central top bar), choose the Python installation that is within the `ml2025` conda environment you created above.\n",
    "    - **For PyCharm**\n",
    "        - on the `New Project` screen, set the `Location` path to the path to the `Hertie_ML_2025_Labs` directory \n",
    "        - change the radio button from `New environment using ...` to `Previously configured interpreter`\n",
    "        - in the `Interpreter` dropdown menu, choose the Python installation that is within the `ml2025` conda environment you created above."
   ]
  },
  {
   "cell_type": "markdown",
   "metadata": {
    "jupyter": {
     "outputs_hidden": false
    },
    "pycharm": {
     "name": "#%% md\n"
    }
   },
   "source": [
    "## Let's get coding! <a class=\"anchor\" id=\"exercises\"></a>"
   ]
  },
  {
   "cell_type": "markdown",
   "id": "c1633d55-137a-442f-94f7-76aa2dafe50b",
   "metadata": {},
   "source": [
    "### Import the Library\n",
    "\n",
    "\n"
   ]
  },
  {
   "cell_type": "markdown",
   "metadata": {},
   "source": [
    "First you will have to install numpy into your virtual environment using `pip install numpy` (note: you can also use `conda install numpy`, this works better for ensuring dependencies etc. but is not available for every package, so for nicher packages its better to use pip which is the python default package loader.)"
   ]
  },
  {
   "cell_type": "code",
   "execution_count": 2,
   "id": "b8c4227b-8e2e-432a-9ecb-18836009828e",
   "metadata": {},
   "outputs": [],
   "source": [
    "import numpy as np"
   ]
  },
  {
   "cell_type": "markdown",
   "id": "fe7af52e-3c1b-46c2-be9c-dc9a629cf0c1",
   "metadata": {},
   "source": [
    "#### If this command runs without any errors, it means your library has been successfully imported."
   ]
  },
  {
   "cell_type": "markdown",
   "id": "b7005edb-7641-48e8-a710-b9ec29da407c",
   "metadata": {},
   "source": [
    "## Matrix Operations using Numpy"
   ]
  },
  {
   "cell_type": "markdown",
   "metadata": {},
   "source": [
    "See if you can complete the following excercises using the python basics you have learned and the cheatsheet below for numpy:\n",
    "https://media.datacamp.com/legacy/image/upload/v1676302459/Marketing/Blog/Numpy_Cheat_Sheet.pdf\n",
    "\n",
    "Some code chunks are blank, this is where you should put your code, others are already filled in, make sure to run these as you go along!\n",
    "\n",
    "If you are stuggling the solutions are in lab1_solutions.ipynb, but try asking your neighbour or searching online first!\n",
    "\n",
    "One important note: in Numpy matrices are considered a subset of arrays."
   ]
  },
  {
   "cell_type": "markdown",
   "id": "7eec5a13-7f21-439f-8042-c4d746232053",
   "metadata": {},
   "source": [
    "### 1. Defining and printing matrices"
   ]
  },
  {
   "cell_type": "markdown",
   "id": "deff6080-62c4-4776-b35b-c536c5ec22de",
   "metadata": {},
   "source": [
    "#### Define a 2x2 matrix A such that it takes the following values:\n",
    "\n",
    "$$\n",
    "\\begin{bmatrix}\n",
    "1 & 2 \\\\\n",
    "3 & 4\n",
    "\\end{bmatrix}\n",
    "$$"
   ]
  },
  {
   "cell_type": "code",
   "execution_count": 3,
   "id": "df224dce-3eb8-4415-953a-24f284c92295",
   "metadata": {},
   "outputs": [],
   "source": []
  },
  {
   "cell_type": "markdown",
   "id": "63ea56d6-0edd-49e0-bf5b-86a453de452c",
   "metadata": {},
   "source": [
    "#### Let's check the values of A:"
   ]
  },
  {
   "cell_type": "markdown",
   "id": "3eb69892-3ad7-4d77-b9b4-e14cda31a472",
   "metadata": {},
   "source": [
    "##### Way 1"
   ]
  },
  {
   "cell_type": "code",
   "execution_count": null,
   "id": "023791b3-082a-443e-b29e-fd6d9bd1918b",
   "metadata": {},
   "outputs": [],
   "source": [
    "A"
   ]
  },
  {
   "cell_type": "markdown",
   "id": "2519b8a9-b893-4736-a3a8-46f53de3f559",
   "metadata": {},
   "source": [
    "##### Way 2"
   ]
  },
  {
   "cell_type": "code",
   "execution_count": null,
   "id": "ee8fc3ba-0f70-4c5b-8354-facf87fef381",
   "metadata": {},
   "outputs": [],
   "source": [
    "print(A)"
   ]
  },
  {
   "cell_type": "markdown",
   "id": "2d005871-8fcd-44bf-b50a-e77f4240529e",
   "metadata": {},
   "source": [
    "#### Define a 2x2 matrix B such that it takes the following values:\n",
    "\n",
    "$$\n",
    "\\begin{bmatrix}\n",
    "5 & 6 \\\\\n",
    "7 & 8\n",
    "\\end{bmatrix}\n",
    "$$"
   ]
  },
  {
   "cell_type": "code",
   "execution_count": 6,
   "id": "f4423b49-71ab-4854-aa30-54d24cd99809",
   "metadata": {},
   "outputs": [],
   "source": []
  },
  {
   "cell_type": "code",
   "execution_count": null,
   "id": "8e82b054-8377-4127-8feb-15e2f871ac65",
   "metadata": {},
   "outputs": [],
   "source": [
    "B"
   ]
  },
  {
   "cell_type": "markdown",
   "id": "0b1dc638-0304-44b8-b7b9-4c0a29f8d15d",
   "metadata": {},
   "source": [
    "#### Let's try to see values of 2 variables in one cell without the print statement"
   ]
  },
  {
   "cell_type": "code",
   "execution_count": null,
   "id": "44edf2a0-f840-4dd7-8fb6-da60a90cb2cd",
   "metadata": {},
   "outputs": [],
   "source": [
    "\n"
   ]
  },
  {
   "cell_type": "markdown",
   "id": "b3e8ecdc-b53a-439e-bfd6-a19256c30d79",
   "metadata": {},
   "source": [
    "We should see that only matrix B gets shown on the screen."
   ]
  },
  {
   "cell_type": "markdown",
   "id": "24a91901-d5fd-46ae-9aa4-04e0fd2c74c3",
   "metadata": {},
   "source": [
    "#### Now try to see values of 2 variables in one cell with print statement."
   ]
  },
  {
   "cell_type": "code",
   "execution_count": null,
   "id": "d5b258d9-48ba-4d60-b7de-675825e08783",
   "metadata": {},
   "outputs": [],
   "source": []
  },
  {
   "cell_type": "markdown",
   "id": "03e833fb-4526-41a8-9032-82c0b25cffd7",
   "metadata": {},
   "source": [
    "We should see that both the matrices get printed with the print statement."
   ]
  },
  {
   "cell_type": "markdown",
   "id": "82b9d73b-42fc-40b6-8cf9-f14ee8b9d62b",
   "metadata": {},
   "source": [
    "#### Now let's define a 3x3 matrix C such that it takes the following values:\n",
    "\n",
    "$$\n",
    "\\begin{bmatrix}\n",
    "1 & 2 & 3 \\\\\n",
    "4 & 5 & 6 \\\\\n",
    "7 & 8 & 9\n",
    "\\end{bmatrix}\n",
    "$$"
   ]
  },
  {
   "cell_type": "code",
   "execution_count": 10,
   "id": "eb89941d-2216-482c-8627-51b9ffb31e5d",
   "metadata": {},
   "outputs": [],
   "source": []
  },
  {
   "cell_type": "code",
   "execution_count": null,
   "id": "c0a0e711-2b5c-4071-9b47-b0416e7c39ec",
   "metadata": {},
   "outputs": [],
   "source": [
    "C"
   ]
  },
  {
   "cell_type": "markdown",
   "id": "fad0e434-7751-4e67-a5bf-107f7abe665c",
   "metadata": {},
   "source": [
    "##### Bonus: see all variables defined in current scope:"
   ]
  },
  {
   "cell_type": "code",
   "execution_count": null,
   "id": "98529195-d9c7-4363-bc2c-54a22fd0cec7",
   "metadata": {},
   "outputs": [],
   "source": [
    "whos\n"
   ]
  },
  {
   "cell_type": "markdown",
   "id": "f7cdd94d-fb0f-4b1f-bc02-a79c9cc14cdd",
   "metadata": {},
   "source": [
    "### 2. Datatypes of matrices:"
   ]
  },
  {
   "cell_type": "markdown",
   "metadata": {},
   "source": [
    "The type of a matrix depends on its components and how we set it up."
   ]
  },
  {
   "cell_type": "code",
   "execution_count": null,
   "id": "f97abd5d-c0d4-47d6-bc9d-48061bbac945",
   "metadata": {},
   "outputs": [],
   "source": [
    "A.dtype"
   ]
  },
  {
   "cell_type": "markdown",
   "id": "83b6feb3-df35-486b-9760-ac856586d211",
   "metadata": {},
   "source": [
    "#### We can define matrix G so that it is of type double (which allows for decimal values)\n",
    "Note: Double and float64 are two names for the same datatype."
   ]
  },
  {
   "cell_type": "code",
   "execution_count": null,
   "id": "c3676430-69f5-4b2b-a018-7bf8ee8fc8cf",
   "metadata": {},
   "outputs": [],
   "source": [
    "G=np.array([[1,2,3],[4,5,6]],np.double)\n",
    "G"
   ]
  },
  {
   "cell_type": "code",
   "execution_count": null,
   "id": "23203843-3aec-43d6-829a-1af1bf96f0e8",
   "metadata": {},
   "outputs": [],
   "source": [
    "print(G.dtype)"
   ]
  },
  {
   "cell_type": "code",
   "execution_count": null,
   "id": "41a2ff79-ba35-434b-8e81-10f9e70c2288",
   "metadata": {},
   "outputs": [],
   "source": [
    "whos"
   ]
  },
  {
   "cell_type": "markdown",
   "id": "e8e6e610-192f-4fdc-aeb5-0ee142110ea5",
   "metadata": {},
   "source": [
    "### 3. Defining Zero and Identity Matrices:"
   ]
  },
  {
   "cell_type": "markdown",
   "id": "944c7d43-8f70-4105-8b41-38404f5ade71",
   "metadata": {},
   "source": [
    "#### Define a zero matrix of size 4x4:\n",
    "(See if you can do this directly without typing out the zeroes)"
   ]
  },
  {
   "cell_type": "code",
   "execution_count": null,
   "id": "b08b69be-02fd-405d-adf5-1fb96e4d5c4c",
   "metadata": {},
   "outputs": [],
   "source": []
  },
  {
   "cell_type": "markdown",
   "id": "620e0782-5055-4143-91fe-0c929cb49899",
   "metadata": {},
   "source": [
    "##### We can also define a Zero matrix that has integer values:"
   ]
  },
  {
   "cell_type": "code",
   "execution_count": null,
   "id": "a7d0aea8-7c80-4510-88f6-ebe1a2abc50e",
   "metadata": {},
   "outputs": [],
   "source": [
    "Z4=np.zeros(shape=(4,4),dtype=int)\n",
    "Z4"
   ]
  },
  {
   "cell_type": "markdown",
   "id": "647bfa37-a687-4143-b277-7b41f0a1a472",
   "metadata": {},
   "source": [
    "#### Define an Identity matrix of size 4x4:"
   ]
  },
  {
   "cell_type": "code",
   "execution_count": null,
   "id": "9ea02607-54db-4924-8c2d-7059f1c25970",
   "metadata": {},
   "outputs": [],
   "source": []
  },
  {
   "cell_type": "markdown",
   "id": "592b07c5-906d-46a1-8b62-2ae95a1ab684",
   "metadata": {},
   "source": [
    "#### Define an Identity Matrix of type int and size 4x4:"
   ]
  },
  {
   "cell_type": "code",
   "execution_count": null,
   "id": "125293e7-0b4c-4a3e-9542-ce233e658bc4",
   "metadata": {},
   "outputs": [],
   "source": []
  },
  {
   "cell_type": "code",
   "execution_count": null,
   "metadata": {},
   "outputs": [],
   "source": [
    "print(I4.dtype)"
   ]
  },
  {
   "cell_type": "markdown",
   "id": "962df2e4-1b5f-43e6-bf71-3c67fdd7283b",
   "metadata": {},
   "source": [
    "### 4. Access rows and columns of a matrix (slicing the matrix):"
   ]
  },
  {
   "cell_type": "markdown",
   "id": "48ed7b97-dc7f-47ad-ab67-4c2d8934bcae",
   "metadata": {},
   "source": [
    "#### In Python, indices start from [0,0]"
   ]
  },
  {
   "cell_type": "markdown",
   "id": "4635ba68-4354-4776-b88e-81964636d715",
   "metadata": {},
   "source": [
    "#### If we want to access the first element of a matrix, we will use indices [0,0]"
   ]
  },
  {
   "cell_type": "code",
   "execution_count": null,
   "id": "9b0bca43-846e-4722-9ce7-e3bb5527c568",
   "metadata": {},
   "outputs": [],
   "source": [
    "print(\"Matrix C:\")\n",
    "print(C)\n",
    "\n",
    "print(\"\\nFirst element of Matrix C:\")\n",
    "print(C[0,0])"
   ]
  },
  {
   "cell_type": "markdown",
   "id": "93f66326-4d9e-43fd-bdf5-9fe5bdf28b78",
   "metadata": {},
   "source": [
    "#### Modify that element so that it is 7:"
   ]
  },
  {
   "cell_type": "code",
   "execution_count": null,
   "id": "2c04d4e3-e230-4936-86eb-baad32ee863a",
   "metadata": {},
   "outputs": [],
   "source": []
  },
  {
   "cell_type": "code",
   "execution_count": null,
   "metadata": {},
   "outputs": [],
   "source": [
    "print(\"First element of Matrix C:\")\n",
    "print(C[0,0])\n",
    "\n",
    "print(\"\\nMatrix C:\")\n",
    "print(C)"
   ]
  },
  {
   "cell_type": "markdown",
   "id": "ff1c7286-462d-495a-aedf-f6f8a48108a4",
   "metadata": {},
   "source": [
    "#### Then change it back to its original value of 1:"
   ]
  },
  {
   "cell_type": "code",
   "execution_count": null,
   "id": "ffdccba9-e0c0-4356-b187-e62363f09557",
   "metadata": {},
   "outputs": [],
   "source": []
  },
  {
   "cell_type": "code",
   "execution_count": null,
   "metadata": {},
   "outputs": [],
   "source": [
    "print(C)"
   ]
  },
  {
   "cell_type": "markdown",
   "id": "1a178a60-e06c-4652-8da1-9760d89395cd",
   "metadata": {},
   "source": [
    "#### We can also access entire rows of a matrix:"
   ]
  },
  {
   "cell_type": "markdown",
   "id": "a246953e-fc95-49a9-bb45-cb62be9c132c",
   "metadata": {},
   "source": [
    "The first index denotes row, and the second denotes column: Matrix[row,column]"
   ]
  },
  {
   "cell_type": "code",
   "execution_count": null,
   "id": "7b74f9af-fd1f-48fc-88ac-c157ae33661c",
   "metadata": {},
   "outputs": [],
   "source": [
    "C[0,:]"
   ]
  },
  {
   "cell_type": "code",
   "execution_count": null,
   "id": "73faca3f-3451-4b8d-8c83-94779986ad70",
   "metadata": {},
   "outputs": [],
   "source": [
    "print(\"First row of Matrix C:\")\n",
    "print(C[0,:])\n"
   ]
  },
  {
   "cell_type": "markdown",
   "id": "0cb497a7-1082-4647-8f19-6b1fae4d7389",
   "metadata": {},
   "source": [
    "#### Access the entries on the third row of matrix C:"
   ]
  },
  {
   "cell_type": "code",
   "execution_count": null,
   "id": "3c6973ac-41f2-4631-abd1-48818b5862ea",
   "metadata": {},
   "outputs": [],
   "source": []
  },
  {
   "cell_type": "markdown",
   "id": "af4aa385-2e3d-4956-9fb8-0ac62cfbda42",
   "metadata": {},
   "source": [
    "#### Access the 2nd column of matrix C:"
   ]
  },
  {
   "cell_type": "code",
   "execution_count": null,
   "id": "34e085d8-5ef3-4cbd-a9e4-da639374ce34",
   "metadata": {},
   "outputs": [],
   "source": []
  },
  {
   "cell_type": "markdown",
   "id": "7d633dd5-3935-4522-bd96-58e199036725",
   "metadata": {},
   "source": [
    "#### Retrieve Matrix Blocks:"
   ]
  },
  {
   "cell_type": "markdown",
   "id": "1fd441b6-eaa6-418f-9bfe-2f984ec1d2e2",
   "metadata": {},
   "source": [
    "#### Let's retrieve elements with values 1,2,4,5 from C:"
   ]
  },
  {
   "cell_type": "code",
   "execution_count": null,
   "id": "d609b35b-d6a1-4130-85fc-3e74a9eee693",
   "metadata": {},
   "outputs": [],
   "source": [
    "print(C[0:2,0:2])"
   ]
  },
  {
   "cell_type": "markdown",
   "id": "9a268d93-3d10-471c-9175-5fe7894c73d6",
   "metadata": {},
   "source": [
    "Note: 0:2 doesn't include position 2 (only 0 and 1)"
   ]
  },
  {
   "cell_type": "markdown",
   "id": "0ef0c579-433d-4daa-b359-e1b766c260ea",
   "metadata": {},
   "source": [
    "#### Now retrieve elements with values 5,6,8,9 from C:\n",
    "(Hint, we require rows 1 and 2 and columns 1 and 2, counting from 0)"
   ]
  },
  {
   "cell_type": "code",
   "execution_count": null,
   "id": "2312d45e-bc05-45a5-9a8b-d0d1fdf15b5d",
   "metadata": {},
   "outputs": [],
   "source": []
  },
  {
   "cell_type": "markdown",
   "id": "f44b4ab4-11cf-4354-be7c-3e978bc0015b",
   "metadata": {},
   "source": [
    "Note: [1:2,1:2] only gives us the center most element in the matrix"
   ]
  },
  {
   "cell_type": "code",
   "execution_count": null,
   "id": "7aed2cc2-1046-4bae-8124-9811f941bd18",
   "metadata": {},
   "outputs": [],
   "source": [
    "print (C[1:2,1:2])"
   ]
  },
  {
   "cell_type": "markdown",
   "id": "604cbd36-40c6-4ea9-97d8-fb561d05f262",
   "metadata": {},
   "source": [
    "#### Another approach to get elements with values 5,6,8,9:\n",
    "Here we use negative indices count from the end:\n",
    "- -1 refers to the last row/column.\n",
    "- -2 refers to the second-to-last row/column, and so on."
   ]
  },
  {
   "cell_type": "code",
   "execution_count": null,
   "id": "d9f393ff-16f5-4267-843a-767437bd4dba",
   "metadata": {},
   "outputs": [],
   "source": [
    "print(C[-2:,-2:])"
   ]
  },
  {
   "cell_type": "markdown",
   "id": "04b36ef1-304e-4a8a-833c-79586547c549",
   "metadata": {},
   "source": [
    "##### Find the number of rows and columns for matrix G:"
   ]
  },
  {
   "cell_type": "code",
   "execution_count": null,
   "id": "d6566253-2c38-4d98-83e9-169f2647ed0c",
   "metadata": {},
   "outputs": [],
   "source": []
  },
  {
   "cell_type": "markdown",
   "id": "b02bf113-4681-4d40-a4b8-6965f55e9867",
   "metadata": {},
   "source": [
    "#### Now see if you can find the no. of rows and columns in G seperately:"
   ]
  },
  {
   "cell_type": "code",
   "execution_count": null,
   "id": "584cd6d6-5af1-4843-a2e9-5f5aa414190e",
   "metadata": {},
   "outputs": [],
   "source": []
  },
  {
   "cell_type": "markdown",
   "id": "0de3c4a4-56df-4c4a-a230-b0cf829f17f3",
   "metadata": {},
   "source": [
    "### 5. Matrix Operations:"
   ]
  },
  {
   "cell_type": "markdown",
   "metadata": {},
   "source": [
    "#### Find the Transpose of matrix G:"
   ]
  },
  {
   "cell_type": "code",
   "execution_count": null,
   "id": "a83c60c6-3d37-4c60-ae91-9bc8b0b1dba0",
   "metadata": {},
   "outputs": [],
   "source": []
  },
  {
   "cell_type": "markdown",
   "id": "919f2cff-999b-4338-9347-23a735f9a065",
   "metadata": {},
   "source": [
    "#### Add A and B, call the answer S and print it:"
   ]
  },
  {
   "cell_type": "code",
   "execution_count": null,
   "id": "832306f7-df06-4dab-a0fd-91e15bbd18bf",
   "metadata": {},
   "outputs": [],
   "source": []
  },
  {
   "cell_type": "markdown",
   "id": "9c84a1db-fbb2-496a-af98-0089acbddf54",
   "metadata": {},
   "source": [
    "#### Multiply A by a scalar of 2 i.e. multiply all elements by 2:"
   ]
  },
  {
   "cell_type": "code",
   "execution_count": null,
   "id": "6243f1d2-f723-459c-a486-ec9141a1b06f",
   "metadata": {},
   "outputs": [],
   "source": []
  },
  {
   "cell_type": "markdown",
   "id": "8f3a7921-c113-4c2b-b198-8d3dafba90da",
   "metadata": {},
   "source": [
    "#### Multiplying Matrices:"
   ]
  },
  {
   "cell_type": "markdown",
   "metadata": {},
   "source": [
    "If we use the default multiplication operator in python, ``*`` we get element-wise multiplcation of A and B, but not standard (dot product) matrix multiplication."
   ]
  },
  {
   "cell_type": "code",
   "execution_count": null,
   "id": "19decf26-3934-46cc-9d00-acbc1ebd16f3",
   "metadata": {},
   "outputs": [],
   "source": [
    "M=A*B\n",
    "print (\"M is\\n\",M)\n",
    "print(\"\\nA is\\n\", A)\n",
    "print(\"\\nB is \\n\", B)"
   ]
  },
  {
   "cell_type": "markdown",
   "id": "e24b5ed7-7447-46d5-bd4e-ed5a8b38cd4a",
   "metadata": {},
   "source": [
    "#### Find the dot product of A and B:"
   ]
  },
  {
   "cell_type": "code",
   "execution_count": null,
   "id": "7beb0c58-c05d-4e57-ae2a-70680a47bec4",
   "metadata": {},
   "outputs": [],
   "source": []
  },
  {
   "cell_type": "markdown",
   "metadata": {},
   "source": [
    "We can also use the @ operator for (dot product) matrix multiplication"
   ]
  },
  {
   "cell_type": "code",
   "execution_count": null,
   "metadata": {},
   "outputs": [],
   "source": [
    "M3=A@B\n",
    "print(\"\\nMatrix multiplication of A and B is\\n\", M3)"
   ]
  },
  {
   "cell_type": "markdown",
   "id": "f144ed60-c343-41b8-bdbe-0cc0b1c88d10",
   "metadata": {},
   "source": [
    "#### Let's calculate inverse of matrix A:"
   ]
  },
  {
   "cell_type": "code",
   "execution_count": 46,
   "id": "dbdd273c-6f6c-4675-a9d0-af337f50ebcc",
   "metadata": {},
   "outputs": [],
   "source": [
    "A1=np.linalg.inv(A)"
   ]
  },
  {
   "cell_type": "markdown",
   "metadata": {},
   "source": [
    "Note that this uses linalg submodule of numpy library, submodules are accessed using dot notation and sometimes must be imported separately"
   ]
  },
  {
   "cell_type": "markdown",
   "id": "7a52802e-b116-4666-88a9-ef3812c1c0fd",
   "metadata": {},
   "source": [
    "We can check if A1 is the inverse of using matrix multiplication: A1@A=A@A1=Identity matrix"
   ]
  },
  {
   "cell_type": "code",
   "execution_count": null,
   "id": "06657d89-cec5-4af0-b8d2-c100b0f3b700",
   "metadata": {},
   "outputs": [],
   "source": [
    "print(A@A1)"
   ]
  },
  {
   "cell_type": "markdown",
   "id": "73807e78-bbdc-4ca3-ad14-81e57f5b9477",
   "metadata": {},
   "source": [
    "Don't be confused by e^-16, it is effectively zero"
   ]
  },
  {
   "cell_type": "markdown",
   "id": "cccc7d94-9126-4664-bbbf-e7dd01cb7b47",
   "metadata": {},
   "source": [
    "### 6. Save matrix to a file:"
   ]
  },
  {
   "cell_type": "markdown",
   "id": "7edc2dea-cf01-4325-905f-44946571b765",
   "metadata": {},
   "source": [
    "#### Save matrix G to the file matrix_file.npy"
   ]
  },
  {
   "cell_type": "code",
   "execution_count": 48,
   "id": "e9e58198-d21f-4978-96e3-c76d3dddeb92",
   "metadata": {},
   "outputs": [],
   "source": []
  },
  {
   "cell_type": "markdown",
   "id": "b2ffacfe-f98f-4333-9797-b8fc25d1a051",
   "metadata": {},
   "source": [
    "#### Let's load the saved file and compare the matrices, all elements should be equal:"
   ]
  },
  {
   "cell_type": "code",
   "execution_count": null,
   "id": "b459dc8c-e0a6-474b-8399-9a40393f8036",
   "metadata": {},
   "outputs": [],
   "source": [
    "G4=np.load('matrix_file.npy')\n",
    "print(G4==G)"
   ]
  },
  {
   "cell_type": "markdown",
   "metadata": {},
   "source": [
    "You are done this tutorial, congrats! If you have lots of extra time in the tutorial it might be worth starting to look for interesting datasets for your project!"
   ]
  }
 ],
 "metadata": {
  "kernelspec": {
   "display_name": "Python 3 (ipykernel)",
   "language": "python",
   "name": "python3"
  },
  "language_info": {
   "codemirror_mode": {
    "name": "ipython",
    "version": 3
   },
   "file_extension": ".py",
   "mimetype": "text/x-python",
   "name": "python",
   "nbconvert_exporter": "python",
   "pygments_lexer": "ipython3",
   "version": "3.9.7"
  }
 },
 "nbformat": 4,
 "nbformat_minor": 4
}
